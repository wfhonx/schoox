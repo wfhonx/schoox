{
 "cells": [
  {
   "cell_type": "markdown",
   "metadata": {
    "application/vnd.databricks.v1+cell": {
     "cellMetadata": {
      "byteLimit": 2048000,
      "rowLimit": 10000
     },
     "inputWidgets": {},
     "nuid": "2209c371-95f2-4710-a9a0-24f1096fca73",
     "showTitle": false,
     "tableResultSettingsMap": {},
     "title": ""
    }
   },
   "source": [
    "### Installations"
   ]
  },
  {
   "cell_type": "code",
   "execution_count": null,
   "metadata": {
    "application/vnd.databricks.v1+cell": {
     "cellMetadata": {
      "byteLimit": 2048000,
      "rowLimit": 10000
     },
     "collapsed": true,
     "inputWidgets": {},
     "nuid": "8f6d2ab1-8fd9-42ba-b9f1-796250420334",
     "showTitle": false,
     "tableResultSettingsMap": {},
     "title": ""
    }
   },
   "outputs": [],
   "source": [
    "#%pip install tqdm"
   ]
  },
  {
   "cell_type": "markdown",
   "metadata": {
    "application/vnd.databricks.v1+cell": {
     "cellMetadata": {
      "byteLimit": 2048000,
      "rowLimit": 10000
     },
     "inputWidgets": {},
     "nuid": "940dfdf7-de1e-4e50-95ee-221363b195fa",
     "showTitle": false,
     "tableResultSettingsMap": {},
     "title": ""
    }
   },
   "source": [
    "### Imports"
   ]
  },
  {
   "cell_type": "code",
   "execution_count": 3,
   "metadata": {
    "application/vnd.databricks.v1+cell": {
     "cellMetadata": {
      "byteLimit": 2048000,
      "rowLimit": 10000
     },
     "collapsed": true,
     "inputWidgets": {},
     "nuid": "19fbd2a5-fb40-49f0-a4b7-e6d7465ff953",
     "showTitle": false,
     "tableResultSettingsMap": {},
     "title": ""
    }
   },
   "outputs": [],
   "source": [
    "import json\n",
    "import requests\n",
    "import pandas as pd\n",
    "from time import sleep\n",
    "from datetime import datetime\n",
    "from tqdm.notebook import tqdm, trange"
   ]
  },
  {
   "cell_type": "markdown",
   "metadata": {
    "application/vnd.databricks.v1+cell": {
     "cellMetadata": {
      "byteLimit": 2048000,
      "rowLimit": 10000
     },
     "inputWidgets": {},
     "nuid": "c6a45d1c-a4d4-476f-9207-879c4c8b7e39",
     "showTitle": false,
     "tableResultSettingsMap": {},
     "title": ""
    }
   },
   "source": [
    "### Globals"
   ]
  },
  {
   "cell_type": "code",
   "execution_count": 92,
   "metadata": {
    "application/vnd.databricks.v1+cell": {
     "cellMetadata": {
      "byteLimit": 2048000,
      "rowLimit": 10000
     },
     "collapsed": true,
     "inputWidgets": {},
     "nuid": "df855440-00a4-4f5c-95eb-5bac9841f701",
     "showTitle": false,
     "tableResultSettingsMap": {},
     "title": ""
    }
   },
   "outputs": [],
   "source": [
    "# API Constants\n",
    "ACADEMY_ID = \"<YOUR_ACADEMY_ID>\"\n",
    "API_KEY = \"<YOUR_API_KEY>\"\n",
    "BASE_URL = \"https://app.ca.schoox.com/api/v1\"\n",
    "\n",
    "PARAMS = {\n",
    "    \"apikey\": API_KEY,\n",
    "    \"acadId\": ACADEMY_ID\n",
    "}\n",
    "\n",
    "GET_USER_LIMIT = 500\n",
    "\n",
    "# Delta tables\n",
    "progress_table = 'schoox_progress.csv'\n",
    "users_table = 'schoox_users.csv'\n",
    "courses_table = 'schoox_courses.csv'\n",
    "\n",
    "DASH = u'\\u2500'"
   ]
  },
  {
   "cell_type": "markdown",
   "metadata": {
    "application/vnd.databricks.v1+cell": {
     "cellMetadata": {
      "byteLimit": 2048000,
      "rowLimit": 10000
     },
     "inputWidgets": {},
     "nuid": "41fc9a05-3fe6-4260-adce-416df0fb6d72",
     "showTitle": false,
     "tableResultSettingsMap": {},
     "title": ""
    }
   },
   "source": [
    "### Function Definitions"
   ]
  },
  {
   "cell_type": "code",
   "execution_count": null,
   "metadata": {
    "application/vnd.databricks.v1+cell": {
     "cellMetadata": {
      "byteLimit": 2048000,
      "rowLimit": 10000
     },
     "collapsed": true,
     "inputWidgets": {},
     "nuid": "caaad426-0866-435e-93e4-b77425ae0ecd",
     "showTitle": false,
     "tableResultSettingsMap": {},
     "title": ""
    }
   },
   "outputs": [],
   "source": [
    "# ========= Main api call function =========\n",
    "\n",
    "def get_response_json(request, parameters=None):\n",
    "    ENDPOINT = f\"{BASE_URL}/{request}\"\n",
    "    if parameters == None:\n",
    "        parameters = PARAMS\n",
    "    else:\n",
    "        parameters.update(PARAMS)\n",
    "    \n",
    "    try:\n",
    "        response = requests.get(ENDPOINT, params=parameters)\n",
    "\n",
    "        if response.status_code == 200:\n",
    "            return json.loads(response.text)\n",
    "        else:\n",
    "            for i in range(5):\n",
    "                sleep(3)\n",
    "                response = requests.get(ENDPOINT, params=parameters)\n",
    "                if response.status_code == 200:\n",
    "                    return json.loads(response.text)\n",
    "                else:\n",
    "                    continue\n",
    "                \n",
    "            print(f\"❌ Error: {response.status_code}: {response.text}\")\n",
    "\n",
    "    except requests.RequestException as e:\n",
    "        print(f\"❌ Request failed: {e}\")\n",
    "\n",
    "\n",
    "# User Functions ================================================================================\n",
    "\n",
    "def generate_all_units():\n",
    "    units = pd.DataFrame(get_response_json('units'))\n",
    "    teams = sorted(list(units['name']),reverse=True)\n",
    "\n",
    "    aboves_df = pd.DataFrame(get_response_json('aboves',{'limit':1000}))\n",
    "    divisions = list(aboves_df[aboves_df['type_id']==746475]['name'])\n",
    "    companies = list(aboves_df[aboves_df['type_id']==746464]['name'])\n",
    "    roles = list(aboves_df[aboves_df['type_id']==746463]['name'])\n",
    "\n",
    "    return {'teams': teams, 'companies': companies, 'divisions': divisions, 'roles': roles}\n",
    "\n",
    "\n",
    "# Final user function\n",
    "def get_all_users():\n",
    "    print(\"⚙️ Fetching user data...\", end='\\r')\n",
    "    parameters = {\"limit\":GET_USER_LIMIT}\n",
    "    parameters.update(PARAMS)\n",
    "\n",
    "    response_json = get_response_json(\"users\", parameters)\n",
    "    data_df = pd.DataFrame(response_json)\n",
    "\n",
    "    all_units = generate_all_units()\n",
    "\n",
    "    data_df['team'] = data_df['units'].apply(lambda y: next((x for x in all_units['teams'] if x in str(y)), ''))\n",
    "    data_df['role'] = data_df['above_units'].apply(lambda y: next((x for x in all_units['roles'] if x in str(y)), ''))\n",
    "    data_df['division'] = data_df['above_units'].apply(lambda y: next((x for x in all_units['divisions'] if x in str(y)), ''))\n",
    "    data_df['company'] = data_df['above_units'].apply(lambda y: next((x for x in all_units['companies'] if x in str(y)), ''))\n",
    "\n",
    "    print(f\"✅ Data of {len(data_df)} users loaded.\")\n",
    "    return data_df[['id','firstname','lastname','email','company','division','team','role','username']]\n",
    "\n",
    "\n",
    "# Courses Functions =============================================================================\n",
    "\n",
    "def extract_names(dict_item):\n",
    "    return f\"{dict_item['firstname']} {dict_item['lastname']}\"\n",
    "\n",
    "def extract_categories(dict_list):\n",
    "    return [d['name'] for d in dict_list]\n",
    "\n",
    "# Final courses function\n",
    "def get_all_courses():\n",
    "    print(\"⚙️ Fetching course data...\", end='\\r')\n",
    "    parameters = {\"limit\":100, \"start\":0}\n",
    "    parameters.update(PARAMS)\n",
    "    response_json = get_response_json(\"courses\", parameters)\n",
    "    data_df = pd.DataFrame(response_json)\n",
    "\n",
    "    while len(response_json) > 0:\n",
    "        parameters[\"start\"] += 100\n",
    "        response_json = get_response_json(\"courses\", parameters)\n",
    "        data_df = pd.concat([data_df, pd.DataFrame(response_json)], ignore_index=True)\n",
    "\n",
    "    data_df['categories'] = data_df['categories'].apply(extract_categories)\n",
    "    data_df['instructor'] = data_df['instructor'].apply(extract_names)\n",
    "    data_df['categories'] = data_df['categories'].apply(lambda x: ', '.join(x)).apply(lambda x: x.replace('-', ', '))\n",
    "    data_df.scope = data_df.scope.astype(str)\n",
    "\n",
    "    print(f\"✅ Data of {len(data_df)} courses loaded.\")\n",
    "\n",
    "    return data_df[['id','title','instructor','students','level','categories','scope']]\n",
    "\n",
    "\n",
    "# Progress Functions ============================================================================\n",
    "\n",
    "def get_user_details(user_id:str, parameters=None):\n",
    "    if parameters != None:\n",
    "        parameters.update(PARAMS)\n",
    "    \n",
    "    response_json = get_response_json(f\"users/{user_id}\", parameters)\n",
    "    \n",
    "    data_df = pd.DataFrame(response_json)\n",
    "    \n",
    "    return data_df\n",
    "\n",
    "\n",
    "def get_user_course_details(user_id:str, parameters=None):\n",
    "    if parameters != None:\n",
    "        parameters.update(PARAMS)\n",
    "    else:\n",
    "        parameters = {\"userId\": user_id}\n",
    "    \n",
    "    response_json = get_response_json(\"courses\", parameters)\n",
    "    \n",
    "    data_df = pd.DataFrame(response_json)\n",
    "    \n",
    "    return data_df\n",
    "\n",
    "\n",
    "def get_user_progress(user_id):\n",
    "    \n",
    "    response_json = get_response_json(f\"dashboard/users/{user_id}/courses\")\n",
    "    data_df = pd.DataFrame(response_json)\n",
    "    data_df['user_id'] = user_id\n",
    "    \n",
    "    return data_df\n",
    "\n",
    "\n",
    "# Final progress function\n",
    "def get_all_progress():\n",
    "    print(\"⚙️ Fetching progress data...\", end='\\r')\n",
    "    cols = [\n",
    "            'user_id','id','title','url','progress','total_time','due_date','is_due',\n",
    "            'last_progress','completions_count','completed_by_admin','assignee_first_name',\n",
    "            'assignee_last_name','enroll_date','timecompleted','certificates','enrolled',\n",
    "            'archived','completed_as_equivalent','external_id','required','compliance_course'\n",
    "            ]\n",
    "    data_df = pd.DataFrame(columns=cols)\n",
    "    id_list = [d['id'] for d in get_response_json(\"users\", {'limit':GET_USER_LIMIT})]\n",
    "    \n",
    "    for id in tqdm(id_list):\n",
    "        try:\n",
    "            response = get_response_json(f\"dashboard/users/{id}/courses\",{'dropped_out':'false'})\n",
    "            if response != []:\n",
    "                response_df = pd.DataFrame(response)\n",
    "                response_df['user_id'] = id\n",
    "                data_df = pd.concat([data_df, response_df], ignore_index=True)\n",
    "        except Exception as E:\n",
    "            print(f\"{id}: {E}\")\n",
    "    \n",
    "    print(f\"✅ Progress data of {len(id_list)} users loaded.\")\n",
    "\n",
    "    return data_df[cols]\n",
    "\n",
    "\n",
    "# Misc Functions ============================================================================\n",
    "\n",
    "def save_data(df,filepath):\n",
    "    try:\n",
    "        print(\"⚙️ Saving Data...\", end='\\r')\n",
    "        df.to_csv(filepath, index=False)\n",
    "        print(f\"✅ Data Saved to {filepath}\")\n",
    "    except:\n",
    "        print(\"❌ Error saving data. Please check the file path or format.\")"
   ]
  },
  {
   "cell_type": "markdown",
   "metadata": {
    "application/vnd.databricks.v1+cell": {
     "cellMetadata": {
      "byteLimit": 2048000,
      "rowLimit": 10000
     },
     "inputWidgets": {},
     "nuid": "00158289-3c31-412f-8d7e-4076feea0497",
     "showTitle": false,
     "tableResultSettingsMap": {},
     "title": ""
    }
   },
   "source": [
    "### Main"
   ]
  },
  {
   "cell_type": "code",
   "execution_count": null,
   "metadata": {
    "application/vnd.databricks.v1+cell": {
     "cellMetadata": {
      "byteLimit": 2048000,
      "rowLimit": 10000
     },
     "inputWidgets": {},
     "nuid": "4f032029-c619-4d7e-a785-ca35a8593b96",
     "showTitle": false,
     "tableResultSettingsMap": {},
     "title": ""
    }
   },
   "outputs": [],
   "source": [
    "# Get current day of the week\n",
    "day = datetime.today().strftime('%A')\n",
    "\n",
    "# Trigger values. 1 to run and 0 to skip\n",
    "user_trigger = 1\n",
    "course_trigger = 1\n",
    "progress_trigger = 1\n",
    "\n",
    "# Fetch and save course data if the current day is Monday\n",
    "print(\"USERS \" + DASH * 29)\n",
    "if user_trigger == 1:\n",
    "    users = get_all_users()\n",
    "    users = users[(users['username']!='solutions.architect') & (~users['email'].str.contains('@schoox.com'))]   # Remove schoox admin users\n",
    "    save_data(users, users_table)\n",
    "\n",
    "# Fetch and save course data if the current day is Monday\n",
    "print(\"\\nCOURSES \" + DASH * 27)\n",
    "if course_trigger == 1:\n",
    "    courses = get_all_courses()\n",
    "    save_data(courses, courses_table)\n",
    "\n",
    "# Fetch and save progress data regardless of the day\n",
    "print(\"\\nPROGRESS \" + DASH * 26)\n",
    "if progress_trigger == 1:\n",
    "    progress = get_all_progress()\n",
    "    save_data(progress, progress_table)"
   ]
  },
  {
   "cell_type": "markdown",
   "metadata": {
    "application/vnd.databricks.v1+cell": {
     "cellMetadata": {
      "byteLimit": 2048000,
      "rowLimit": 10000
     },
     "inputWidgets": {},
     "nuid": "4488a57b-9c75-4aa1-a27c-8b6550ddd1d5",
     "showTitle": false,
     "tableResultSettingsMap": {},
     "title": ""
    }
   },
   "source": [
    "### Testing"
   ]
  },
  {
   "cell_type": "code",
   "execution_count": null,
   "metadata": {},
   "outputs": [],
   "source": []
  },
  {
   "cell_type": "markdown",
   "metadata": {},
   "source": [
    "### Archived Functions"
   ]
  },
  {
   "cell_type": "code",
   "execution_count": 91,
   "metadata": {},
   "outputs": [
    {
     "name": "stdout",
     "output_type": "stream",
     "text": [
      "✅ Data Saved to depts/new_users.csv\n"
     ]
    }
   ],
   "source": [
    "def generate_groups():\n",
    "    types_df = pd.DataFrame(get_response_json(\"types\"))                         # superset types\n",
    "    types_df.rename(columns={\"id\":\"type_id\", \"name\":\"type_name\"}, inplace=True)\n",
    "\n",
    "    aboves_df = pd.DataFrame(get_response_json(\"aboves\",{\"limit\":1000}))        # supersets\n",
    "    aboves_df = aboves_df.iloc[:,0:3]\n",
    "\n",
    "    groups = aboves_df.merge(types_df, on=\"type_id\", suffixes=(\"_aboves\", \"_type\"))\n",
    "    groups_df = groups[~groups[\"type_name\"].isin([\"All Users\",\"Manager\", \"Organization\"])]\n",
    "\n",
    "    return groups_df\n",
    "\n",
    "\n",
    "def extract_dept(dict_list):\n",
    "    if len(dict_list) > 0:\n",
    "        return dict_list[0]['name']\n",
    "    else: \n",
    "        return ''\n",
    "\n",
    "def extract_role(dict_list):\n",
    "    if len(dict_list) > 0 and 'jobs' in list(dict_list[0]):\n",
    "        return dict_list[0]['jobs'][0]['name']\n",
    "    else:\n",
    "        return ''\n",
    "\n",
    "def extract_worker_type(dict_list, groups_df):\n",
    "    worker_types = list(groups_df[groups_df['type_name']=='Type (Safety)']['name'])\n",
    "    for i in [d['name'] for d in dict_list]:\n",
    "        if i in worker_types:\n",
    "            return i\n",
    "\n",
    "def extract_company(dict_list, groups_df):\n",
    "    companies = list(groups_df[groups_df['type_name']=='Company']['name'])\n",
    "    for i in [d['name'] for d in dict_list]:\n",
    "        if i in companies:\n",
    "            return i"
   ]
  }
 ],
 "metadata": {
  "application/vnd.databricks.v1+notebook": {
   "computePreferences": null,
   "dashboards": [],
   "environmentMetadata": {
    "base_environment": "",
    "environment_version": "2"
   },
   "inputWidgetPreferences": null,
   "language": "python",
   "notebookMetadata": {
    "mostRecentlyExecutedCommandWithImplicitDF": {
     "commandId": -1,
     "dataframes": [
      "_sqldf"
     ]
    },
    "pythonIndentUnit": 4
   },
   "notebookName": "Schoox",
   "widgets": {}
  },
  "kernelspec": {
   "display_name": "Python 3",
   "language": "python",
   "name": "python3"
  },
  "language_info": {
   "codemirror_mode": {
    "name": "ipython",
    "version": 3
   },
   "file_extension": ".py",
   "mimetype": "text/x-python",
   "name": "python",
   "nbconvert_exporter": "python",
   "pygments_lexer": "ipython3",
   "version": "3.12.4"
  }
 },
 "nbformat": 4,
 "nbformat_minor": 0
}
